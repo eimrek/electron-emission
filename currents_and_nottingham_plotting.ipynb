{
 "cells": [
  {
   "cell_type": "code",
   "execution_count": null,
   "metadata": {
    "collapsed": false
   },
   "outputs": [],
   "source": [
    "import matplotlib as mp\n",
    "import matplotlib.pyplot as plt\n",
    "import numpy as np\n",
    "import time\n",
    "\n",
    "%matplotlib inline\n",
    "mp.rcParams['axes.linewidth'] = 1.0\n",
    "mp.rcParams['lines.linewidth'] = 1.0\n",
    "mp.rcParams['patch.linewidth'] = 1.0\n",
    "mp.rcParams.update({'font.size': 10})"
   ]
  },
  {
   "cell_type": "markdown",
   "metadata": {},
   "source": [
    "# Initial setup and tests"
   ]
  },
  {
   "cell_type": "code",
   "execution_count": null,
   "metadata": {
    "collapsed": false
   },
   "outputs": [],
   "source": [
    "import sys\n",
    "sys.path.append('./emission_modules/')\n",
    "\n",
    "import jensen_gtf_nottingham as jensen\n",
    "import fowler_nordheim_current as fn\n",
    "import richardson_current as richardson"
   ]
  },
  {
   "cell_type": "code",
   "execution_count": null,
   "metadata": {
    "collapsed": false
   },
   "outputs": [],
   "source": [
    "F = 4.0\n",
    "T = 1000\n",
    "phi = 4.5\n",
    "print('%.3e'%jensen.j(F, T, phi))\n",
    "print('%.3e'%fn.j(F, phi))\n",
    "print('%.3e'%fn.j_temp(F, T, phi))\n",
    "print('%.3e'%richardson.j(F, T, phi))"
   ]
  },
  {
   "cell_type": "markdown",
   "metadata": {},
   "source": [
    "# Emission current plots"
   ]
  },
  {
   "cell_type": "code",
   "execution_count": null,
   "metadata": {
    "collapsed": false
   },
   "outputs": [],
   "source": [
    "tic=time.time()\n",
    "plt.figure(figsize=(10, 7))\n",
    "T_data = [1300.0, 800.0]\n",
    "fs = 10**np.arange(-1.0, 1.0, 0.01)\n",
    "phi = 4.5\n",
    "\n",
    "for T in T_data:\n",
    "    j_richardson = [richardson.j(f, T, phi) for f in fs]\n",
    "    plt.plot(fs, j_richardson, '-.', label=\"R-S $%d$K\"%T,zorder=4)\n",
    "    \n",
    "    j_jensen = [jensen.j(f, T, phi) for f in fs]\n",
    "    plt.plot(fs, j_jensen, '-', label=\"Jensen $%d$K\"%T,zorder=4)\n",
    "\n",
    "j_fn = [fn.j(f, phi) for f in fs]\n",
    "plt.plot(fs, j_fn, 'k--', label=\"Fowler-Nordheim\",zorder=4)\n",
    "\n",
    "plt.xlabel(\"Local electric field (GV/m)\")\n",
    "plt.ylabel(\"Current density (A/m$^2$)\")\n",
    "plt.xscale('log')\n",
    "plt.yscale('log')\n",
    "plt.ylim([1e-20, 1e14])\n",
    "lgd = plt.legend(bbox_to_anchor=(0.03, 0.97), loc=\"upper left\", borderaxespad=0.)\n",
    "\n",
    "plt.savefig('./fig/emission_currents.png', dpi=300, bbox_inches='tight')\n",
    "plt.show()\n",
    "print(\"Time taken: %f\"%(time.time()-tic))"
   ]
  },
  {
   "cell_type": "markdown",
   "metadata": {
    "collapsed": true
   },
   "source": [
    "# Nottingham plots"
   ]
  },
  {
   "cell_type": "code",
   "execution_count": null,
   "metadata": {
    "collapsed": false
   },
   "outputs": [],
   "source": [
    "tic=time.time()\n",
    "plt.figure(figsize=(10, 7))\n",
    "F_data = [4.0, 8.0]\n",
    "ts = np.arange(200, 4200, 10)\n",
    "phi = 4.5\n",
    "\n",
    "for F in F_data:\n",
    "    de_jensen = [jensen.deltaE(F, t, phi) for t in ts]\n",
    "    plt.plot(ts, de_jensen, '-', label=\"Jensen %d GV/m\"%F,zorder=4)\n",
    "\n",
    "plt.xlabel(\"Temperature (K)\")\n",
    "plt.ylabel(\"delta E (eV)\")\n",
    "plt.axis((300,4200, -0.4, 2.4))\n",
    "lgd = plt.legend(bbox_to_anchor=(0.03, 0.97), loc=\"upper left\", borderaxespad=0.)\n",
    "\n",
    "\n",
    "plt.savefig('./fig/nottingham_de.png', dpi=300, bbox_inches='tight')\n",
    "plt.show()\n",
    "print(\"Time taken: %f\"%(time.time()-tic))"
   ]
  },
  {
   "cell_type": "code",
   "execution_count": null,
   "metadata": {
    "collapsed": true
   },
   "outputs": [],
   "source": []
  }
 ],
 "metadata": {
  "anaconda-cloud": {},
  "kernelspec": {
   "display_name": "Python [default]",
   "language": "python",
   "name": "python3"
  },
  "language_info": {
   "codemirror_mode": {
    "name": "ipython",
    "version": 3
   },
   "file_extension": ".py",
   "mimetype": "text/x-python",
   "name": "python",
   "nbconvert_exporter": "python",
   "pygments_lexer": "ipython3",
   "version": "3.5.2"
  }
 },
 "nbformat": 4,
 "nbformat_minor": 0
}
